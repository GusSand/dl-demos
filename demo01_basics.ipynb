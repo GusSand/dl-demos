{
  "nbformat": 4,
  "nbformat_minor": 0,
  "metadata": {
    "colab": {
      "provenance": [],
      "gpuType": "T4",
      "authorship_tag": "ABX9TyO4zYysusVE+MguCXDtFBn6",
      "include_colab_link": true
    },
    "kernelspec": {
      "name": "python3",
      "display_name": "Python 3"
    },
    "language_info": {
      "name": "python"
    },
    "accelerator": "GPU"
  },
  "cells": [
    {
      "cell_type": "markdown",
      "metadata": {
        "id": "view-in-github",
        "colab_type": "text"
      },
      "source": [
        "<a href=\"https://colab.research.google.com/github/rtealwitter/dl-demos/blob/main/demo01_basics.ipynb\" target=\"_parent\"><img src=\"https://colab.research.google.com/assets/colab-badge.svg\" alt=\"Open In Colab\"/></a>"
      ]
    },
    {
      "cell_type": "markdown",
      "source": [
        "## PyTorch Basics\n",
        "\n",
        "Today, we'll start by going through a small variable exercise to get familiarity with `pytorch`. I will assume that you are already comfortable with python and `numpy`. If that's not the case, there are many wonderful resources online that I can direct you towards.\n",
        "\n",
        "Once we have a working understanding of `pytorch`, we'll go through a real example of training a neural network on a non-trivial task of recognizing handwritten digits.\n",
        "\n",
        "After watching the demo, I want you to:\n",
        "\n",
        "* understand `pytorch` variables,\n",
        "\n",
        "* realize that `pytorch` keeps track of *how* variables are computed,\n",
        "\n",
        "* have a working familiarity with loading training data in `pytorch`,\n",
        "\n",
        "* have cursory skills to investigate a new data set,\n",
        "\n",
        "* get a first look at how to define a \"deep\" learning model,\n",
        "\n",
        "* get a first look at how to train a model in `pytorch`.\n",
        "\n",
        "There's a lot going on under the hood that we'll learn about in the lectures. For this demo in particular, we won't yet have a firm grasp of *how* the training works but we will get there soon!\n",
        "\n",
        "The demos are more fun for me and helpful for you if you ask lots of questions :)\n"
      ],
      "metadata": {
        "id": "fV12b9dE0hG8"
      }
    },
    {
      "cell_type": "markdown",
      "source": [
        "### Practice with `numpy` and `pytorch`!"
      ],
      "metadata": {
        "id": "XTGLl3bwBWir"
      }
    },
    {
      "cell_type": "code",
      "execution_count": 1,
      "metadata": {
        "id": "n8J7gcg50fVC"
      },
      "outputs": [],
      "source": [
        "# We'll start by importing some libraries\n",
        "import numpy as np # Very helpful (and popular!) for mathematical computation\n",
        "import torch # The main deep learning library we'll use (there are others...)\n",
        "import torchvision # Specialized for vision tasks such as recognizing digits\n",
        "import matplotlib.pyplot as plt # Helpful for plotting things (like our images!)"
      ]
    },
    {
      "cell_type": "markdown",
      "source": [
        "Let's start off by seeing the relationship between `numpy` and `pytorch`."
      ],
      "metadata": {
        "id": "HT1EL8qv2quL"
      }
    },
    {
      "cell_type": "code",
      "source": [
        "a = np.random.rand(2,3) # Build a random 2x3 matrix in numpy\n",
        "b = torch.from_numpy(a) # Convert a to a \"tensor\" (variable in pytorch)\n",
        "\n",
        "print(a)\n",
        "print(b)"
      ],
      "metadata": {
        "colab": {
          "base_uri": "https://localhost:8080/"
        },
        "id": "Ok1g9KfX2piJ",
        "outputId": "cb57954c-41fb-4b0c-c637-33bffe807018"
      },
      "execution_count": 2,
      "outputs": [
        {
          "output_type": "stream",
          "name": "stdout",
          "text": [
            "[[0.09053868 0.87674874 0.1798714 ]\n",
            " [0.42330723 0.65401394 0.66165931]]\n",
            "tensor([[0.0905, 0.8767, 0.1799],\n",
            "        [0.4233, 0.6540, 0.6617]], dtype=torch.float64)\n"
          ]
        }
      ]
    },
    {
      "cell_type": "markdown",
      "source": [
        "We can see that the `numpy` matrix and `pytorch` tensor both encode the same matrix. The `pytorch` librariy believes that everything is a tensor.\n",
        "\n",
        "The main benefit is that tensors allow for intuitive and efficient matrix multiplication across different indexing dimensions. Soon, we will see that trianing neural nets basically consists of *forward* and *backward* passes, both of which use matrix multiplication as the core subroutine.\n",
        "\n",
        "The other benefit of tensors is that they can easily be differentiated. Again, we'll see why this is important when we learn about backpropagation.\n",
        "\n",
        "For now, let's run through a series of computations with `a`."
      ],
      "metadata": {
        "id": "b4bHft0q25jk"
      }
    },
    {
      "cell_type": "code",
      "source": [
        "new_a = a + 10 # Add 10 to every entry in a\n",
        "print(new_a)\n",
        "\n",
        "new_a = new_a**2 # Square every entry in a\n",
        "print(new_a)\n",
        "\n",
        "new_a = new_a.sum() # Take the sum of all the entries\n",
        "print(new_a)"
      ],
      "metadata": {
        "colab": {
          "base_uri": "https://localhost:8080/"
        },
        "id": "eGtO80Ib3G1L",
        "outputId": "241b896f-51c3-4641-d4f1-fb62b1c3e835"
      },
      "execution_count": 3,
      "outputs": [
        {
          "output_type": "stream",
          "name": "stdout",
          "text": [
            "[[10.09053868 10.87674874 10.1798714 ]\n",
            " [10.42330723 10.65401394 10.66165931]]\n",
            "[[101.81897089 118.30366314 103.62978182]\n",
            " [108.64533352 113.50801307 113.6709792 ]]\n",
            "659.5767416400093\n"
          ]
        }
      ]
    },
    {
      "cell_type": "markdown",
      "source": [
        "Let's compare this to what happens when do the same operations on `b` but keep track of the history with `requires_grad=True`."
      ],
      "metadata": {
        "id": "0T7tRXic4LJU"
      }
    },
    {
      "cell_type": "code",
      "source": [
        "new_b = b.requires_grad_() # Start keeping track of computation history\n",
        "\n",
        "new_b = new_b + 10\n",
        "print(new_b)\n",
        "\n",
        "new_b = new_b ** 2\n",
        "print(new_b)\n",
        "\n",
        "new_b = new_b.sum()\n",
        "print(new_b)"
      ],
      "metadata": {
        "colab": {
          "base_uri": "https://localhost:8080/"
        },
        "id": "LSHnWrkm4U8b",
        "outputId": "b5f220e3-5a89-4cb2-bc50-bae4db2bf08a"
      },
      "execution_count": 4,
      "outputs": [
        {
          "output_type": "stream",
          "name": "stdout",
          "text": [
            "tensor([[10.0905, 10.8767, 10.1799],\n",
            "        [10.4233, 10.6540, 10.6617]], dtype=torch.float64,\n",
            "       grad_fn=<AddBackward0>)\n",
            "tensor([[101.8190, 118.3037, 103.6298],\n",
            "        [108.6453, 113.5080, 113.6710]], dtype=torch.float64,\n",
            "       grad_fn=<PowBackward0>)\n",
            "tensor(659.5767, dtype=torch.float64, grad_fn=<SumBackward0>)\n"
          ]
        }
      ]
    },
    {
      "cell_type": "markdown",
      "source": [
        "All of the outputs are the same for `new_a` and `new_b`. However, there's a new variable in the output `grad_fn` which describes the *type* of operation we performed on `new_b` last. This is very helpful for taking the derivative (the key primitive of gradient descent which we'll learn about soon).\n",
        "\n",
        "Let's see how we can use this to compute the derivative. We'll define $x$ and $y$ as random numbers and compute $z = x^2 y$. Now we know from calculus that $dz/dx = 2x y$. Can we use tensors to get that answer?"
      ],
      "metadata": {
        "id": "xmjyWD1940RR"
      }
    },
    {
      "cell_type": "code",
      "source": [
        "y = torch.rand(1,1) # Initialize a random 1x1 matrix (a number)\n",
        "x = torch.rand(1,1, requires_grad=True) # Keep track of the gradient of x\n",
        "z = x**2 * y\n",
        "print('x:', x)\n",
        "print('y:', y)\n",
        "print('z:', z)\n",
        "z.backward() # Compute the gradient of z with respect to its \"descendants\"\n",
        "print('dz/dx:', x.grad) # The gradient we computed\n",
        "print('dz/da:', 2 * x * y) # The gradient we know analytically"
      ],
      "metadata": {
        "colab": {
          "base_uri": "https://localhost:8080/"
        },
        "id": "SJUF011_4eBk",
        "outputId": "8d459141-6268-4d32-90d1-b2b5bc1915d7"
      },
      "execution_count": 5,
      "outputs": [
        {
          "output_type": "stream",
          "name": "stdout",
          "text": [
            "x: tensor([[0.2249]], requires_grad=True)\n",
            "y: tensor([[0.1940]])\n",
            "z: tensor([[0.0098]], grad_fn=<MulBackward0>)\n",
            "dz/dx: tensor([[0.0873]])\n",
            "dz/da: tensor([[0.0873]], grad_fn=<MulBackward0>)\n"
          ]
        }
      ]
    },
    {
      "cell_type": "markdown",
      "source": [
        "It works! The gradient according to `pytorch` is the same we know is true from calculus. Of course, we'll be working in more than one dimension. Let's try the same example but with slightly larger vectors.\n",
        "\n",
        "Now, $X \\in \\mathbb{R}^{2 \\times 2}$, $Y \\in \\mathbb{R}^2$, and $z=\\textrm{sum}(X^2 Y)$.\n",
        "\n",
        "The partial derivative $\\nabla_X z= $"
      ],
      "metadata": {
        "id": "oA_NzlKM6YJK"
      }
    },
    {
      "cell_type": "code",
      "source": [
        "Y = torch.rand(2,1) # Initialize a random 2x1 matrix (a number)\n",
        "X = torch.rand(2,2, requires_grad=True) # Keep track of the gradient of x\n",
        "z = (X**2 * Y).sum()\n",
        "print('X:', X)\n",
        "print('Y:', Y)\n",
        "print('z:', z)\n",
        "z.backward() # Compute the gradient of z with respect to its \"descendants\"\n",
        "print('dz/dX$:', X.grad) # The gradient we computed\n",
        "print('dz/dX$:', 2 * X * Y) # The gradient we know analytically"
      ],
      "metadata": {
        "colab": {
          "base_uri": "https://localhost:8080/"
        },
        "id": "q1C4UxSM8JVw",
        "outputId": "2b233734-e8b5-4b0b-a614-542f3e07e1bc"
      },
      "execution_count": 6,
      "outputs": [
        {
          "output_type": "stream",
          "name": "stdout",
          "text": [
            "X: tensor([[0.6926, 0.0327],\n",
            "        [0.5490, 0.2185]], requires_grad=True)\n",
            "Y: tensor([[0.6337],\n",
            "        [0.8532]])\n",
            "z: tensor(0.6026, grad_fn=<SumBackward0>)\n",
            "dz/dX$: tensor([[0.8778, 0.0414],\n",
            "        [0.9369, 0.3728]])\n",
            "dz/dX$: tensor([[0.8778, 0.0414],\n",
            "        [0.9369, 0.3728]], grad_fn=<MulBackward0>)\n"
          ]
        }
      ]
    },
    {
      "cell_type": "markdown",
      "source": [
        "Again, it works! If your vector calculus is a little rusty, that's okay since we'll be practicing."
      ],
      "metadata": {
        "id": "zQ0VTqB5BOP8"
      }
    },
    {
      "cell_type": "markdown",
      "source": [
        "### Real \"Deep\" Learning!!\n",
        "\n",
        "Let's jump in with our first model. We will train a logistic classifier (equivalent to a single-layer network with cross entropy loss). The task is to classify images in the popular MNIST data set.\n",
        "\n",
        "We don't yet have the full background to understand everything that's going on. That's okay. The goal is to give you a first look at how we do deep learning.\n",
        "\n",
        "We'll begin by loading the data set."
      ],
      "metadata": {
        "id": "vQKzurm-BcEf"
      }
    },
    {
      "cell_type": "code",
      "source": [
        "# We won't go into the specifics of these function calls just yet.\n",
        "trainingdata = torchvision.datasets.MNIST('./MNIST/',train=True,download=True,transform=torchvision.transforms.ToTensor())\n",
        "testdata = torchvision.datasets.MNIST('./MNIST/',train=False,download=True,transform=torchvision.transforms.ToTensor())"
      ],
      "metadata": {
        "colab": {
          "base_uri": "https://localhost:8080/"
        },
        "id": "a5jfz-udBx3S",
        "outputId": "df38a574-2935-41b8-e98c-4b98b7c281bd"
      },
      "execution_count": 7,
      "outputs": [
        {
          "output_type": "stream",
          "name": "stdout",
          "text": [
            "Downloading http://yann.lecun.com/exdb/mnist/train-images-idx3-ubyte.gz\n",
            "Downloading http://yann.lecun.com/exdb/mnist/train-images-idx3-ubyte.gz to ./MNIST/MNIST/raw/train-images-idx3-ubyte.gz\n"
          ]
        },
        {
          "output_type": "stream",
          "name": "stderr",
          "text": [
            "100%|██████████| 9912422/9912422 [00:00<00:00, 114039468.76it/s]"
          ]
        },
        {
          "output_type": "stream",
          "name": "stdout",
          "text": [
            "Extracting ./MNIST/MNIST/raw/train-images-idx3-ubyte.gz to ./MNIST/MNIST/raw\n"
          ]
        },
        {
          "output_type": "stream",
          "name": "stderr",
          "text": [
            "\n"
          ]
        },
        {
          "output_type": "stream",
          "name": "stdout",
          "text": [
            "\n",
            "Downloading http://yann.lecun.com/exdb/mnist/train-labels-idx1-ubyte.gz\n",
            "Downloading http://yann.lecun.com/exdb/mnist/train-labels-idx1-ubyte.gz to ./MNIST/MNIST/raw/train-labels-idx1-ubyte.gz\n"
          ]
        },
        {
          "output_type": "stream",
          "name": "stderr",
          "text": [
            "100%|██████████| 28881/28881 [00:00<00:00, 114278956.44it/s]"
          ]
        },
        {
          "output_type": "stream",
          "name": "stdout",
          "text": [
            "Extracting ./MNIST/MNIST/raw/train-labels-idx1-ubyte.gz to ./MNIST/MNIST/raw\n",
            "\n",
            "Downloading http://yann.lecun.com/exdb/mnist/t10k-images-idx3-ubyte.gz\n",
            "Downloading http://yann.lecun.com/exdb/mnist/t10k-images-idx3-ubyte.gz to ./MNIST/MNIST/raw/t10k-images-idx3-ubyte.gz\n"
          ]
        },
        {
          "output_type": "stream",
          "name": "stderr",
          "text": [
            "\n",
            "100%|██████████| 1648877/1648877 [00:00<00:00, 26626003.48it/s]\n"
          ]
        },
        {
          "output_type": "stream",
          "name": "stdout",
          "text": [
            "Extracting ./MNIST/MNIST/raw/t10k-images-idx3-ubyte.gz to ./MNIST/MNIST/raw\n",
            "\n",
            "Downloading http://yann.lecun.com/exdb/mnist/t10k-labels-idx1-ubyte.gz\n",
            "Downloading http://yann.lecun.com/exdb/mnist/t10k-labels-idx1-ubyte.gz to ./MNIST/MNIST/raw/t10k-labels-idx1-ubyte.gz\n"
          ]
        },
        {
          "output_type": "stream",
          "name": "stderr",
          "text": [
            "100%|██████████| 4542/4542 [00:00<00:00, 23577387.09it/s]"
          ]
        },
        {
          "output_type": "stream",
          "name": "stdout",
          "text": [
            "Extracting ./MNIST/MNIST/raw/t10k-labels-idx1-ubyte.gz to ./MNIST/MNIST/raw\n",
            "\n"
          ]
        },
        {
          "output_type": "stream",
          "name": "stderr",
          "text": [
            "\n"
          ]
        }
      ]
    },
    {
      "cell_type": "markdown",
      "source": [
        "Let's take a look at how much training and test data we have."
      ],
      "metadata": {
        "id": "yOcTnscRCCvM"
      }
    },
    {
      "cell_type": "code",
      "source": [
        "print(f'There are {len(trainingdata)} training images.')\n",
        "print(f'There are {len(testdata)} test images.')"
      ],
      "metadata": {
        "colab": {
          "base_uri": "https://localhost:8080/"
        },
        "id": "T2qfxHhQCFHg",
        "outputId": "aa158614-384e-4d23-a2f7-efbdca95a4b6"
      },
      "execution_count": 8,
      "outputs": [
        {
          "output_type": "stream",
          "name": "stdout",
          "text": [
            "There are 60000 training images.\n",
            "There are 10000 test images.\n"
          ]
        }
      ]
    },
    {
      "cell_type": "markdown",
      "source": [
        "That's a lot! But perfect for our favorite big data, deep learning setting. Let's look inside to see one of these examples."
      ],
      "metadata": {
        "id": "2sKVS14JCNoj"
      }
    },
    {
      "cell_type": "code",
      "source": [
        "image, label = trainingdata[0]\n",
        "print(image.shape) # A 1x28x28 image. This means one color and on a grid of 28x28 pixels.\n",
        "print(label) # A single number corresponding to the label of this image."
      ],
      "metadata": {
        "colab": {
          "base_uri": "https://localhost:8080/"
        },
        "id": "7eubyTnhCVA5",
        "outputId": "7222921b-56ef-4c0f-8fc5-9e4f0cdea4cb"
      },
      "execution_count": 9,
      "outputs": [
        {
          "output_type": "stream",
          "name": "stdout",
          "text": [
            "torch.Size([1, 28, 28])\n",
            "5\n"
          ]
        }
      ]
    },
    {
      "cell_type": "markdown",
      "source": [
        "We can't directly plot the image because of formatting constraints that the first dimension can't have a size of 1. Instead, we'll use the `squeeze` function to turn it into a 28x28 image that we can plot."
      ],
      "metadata": {
        "id": "l8VElEn2Cqf7"
      }
    },
    {
      "cell_type": "code",
      "source": [
        "plt.imshow(image.squeeze()) # Plot the 28x28 image\n",
        "plt.show()"
      ],
      "metadata": {
        "colab": {
          "base_uri": "https://localhost:8080/",
          "height": 430
        },
        "id": "X_pKMnSAC03Z",
        "outputId": "63438c9b-d893-4430-bc70-358f0cbf6132"
      },
      "execution_count": 10,
      "outputs": [
        {
          "output_type": "display_data",
          "data": {
            "text/plain": [
              "<Figure size 640x480 with 1 Axes>"
            ],
            "image/png": "[encoded data removed]"
          },
          "metadata": {}
        }
      ]
    },
    {
      "cell_type": "markdown",
      "source": [
        "What does that look like to you? Maybe a 5?\n",
        "\n",
        "We'll see if the neural network can learn it. But first, let's define a handy way of loading the data."
      ],
      "metadata": {
        "id": "lnMQZNo1Sr7-"
      }
    },
    {
      "cell_type": "code",
      "source": [
        "# The DataLoader is a nifty class for wrapping the data so we can load batches easily\n",
        "trainDataLoader = torch.utils.data.DataLoader(trainingdata,batch_size=64,shuffle=True)\n",
        "testDataLoader = torch.utils.data.DataLoader(testdata,batch_size=64,shuffle=False)\n",
        "\n",
        "images, labels = next(iter(trainDataLoader)) # Let's take a look at an example batch\n",
        "print(images.shape) # There are 64 images\n",
        "print(labels.shape) # And the corresponding 64 labels"
      ],
      "metadata": {
        "colab": {
          "base_uri": "https://localhost:8080/"
        },
        "id": "RtG6nnNvS7s2",
        "outputId": "20abe5df-416f-4e09-ce8e-0497c1f20801"
      },
      "execution_count": 11,
      "outputs": [
        {
          "output_type": "stream",
          "name": "stdout",
          "text": [
            "torch.Size([64, 1, 28, 28])\n",
            "torch.Size([64])\n"
          ]
        }
      ]
    },
    {
      "cell_type": "markdown",
      "source": [
        "We loaded a batch with 64 images and labels. Let's say we wanted to do a batch of 128, how would you accomplish that by modifying the code above?\n",
        "\n",
        "Now that we have our data, let's define our model, loss function, and optimizer using our three step recipe for machine learning."
      ],
      "metadata": {
        "id": "XSINKHyJTTi3"
      }
    },
    {
      "cell_type": "code",
      "source": [
        "# We write this in the standard python class format\n",
        "class Model(torch.nn.Module):\n",
        "  def __init__(self): # This runs whenever we initialize a new model\n",
        "    super(Model, self).__init__()\n",
        "    self.linear = torch.nn.Linear(28*28, 10)\n",
        "    # We define a layer with input size 28*28 and output 10\n",
        "\n",
        "  def forward(self, x): # This runs when we call the model on x\n",
        "    x = x.view(-1, 28*28) # Change from 28x28 view to 784 vector\n",
        "    x = self.linear(x) # Pass x through the linear layer\n",
        "    return x\n",
        "\n",
        "# Step 1: Model\n",
        "model = Model() # Use the class we just defined\n",
        "# Step 2: Loss\n",
        "loss = torch.nn.CrossEntropyLoss()\n",
        "# Step 3: Optimizer\n",
        "optimizer = torch.optim.SGD(model.parameters(), lr=0.01) # Use stochastic gradient descent on the weights in the model\n",
        "\n"
      ],
      "metadata": {
        "id": "9vyalcuRTaX9"
      },
      "execution_count": 36,
      "outputs": []
    },
    {
      "cell_type": "markdown",
      "source": [
        "We also want to run everything quickly on a GPU. A GPU enables us to (basically) to matrix multiplication fast."
      ],
      "metadata": {
        "id": "o47rmyxdWth_"
      }
    },
    {
      "cell_type": "code",
      "source": [
        "device = torch.device('cuda' if torch.cuda.is_available() else 'cpu')\n",
        "print(f'We\\'re using the {device}.')\n",
        "# Put the model on the device\n",
        "model = model.to(device)"
      ],
      "metadata": {
        "colab": {
          "base_uri": "https://localhost:8080/"
        },
        "id": "Z7LHFkU7WzaE",
        "outputId": "cacec165-0b38-4d23-b1e0-ad727bc06741"
      },
      "execution_count": 37,
      "outputs": [
        {
          "output_type": "stream",
          "name": "stdout",
          "text": [
            "We're using the cuda.\n"
          ]
        }
      ]
    },
    {
      "cell_type": "markdown",
      "source": [
        "Now let's do some training!! We'll treat the training process as a bit of a black box for now.\n",
        "\n",
        "As we go, we'll keep track of the training and test loss so we can visualize how they change later."
      ],
      "metadata": {
        "id": "nsVJXaR6THXY"
      }
    },
    {
      "cell_type": "code",
      "source": [
        "train_losses = []\n",
        "test_losses = []\n",
        "\n",
        "for epoch in range(5): # We'll train for 5 \"epochs\"\n",
        "  train_loss = 0\n",
        "  test_loss = 0\n",
        "\n",
        "  # Evaluation process\n",
        "  for i, data in enumerate(testDataLoader):\n",
        "    images, labels = data # Unpack the data into the images and labels\n",
        "    images, labels = images.to(device), labels.to(device) # Put on device\n",
        "    predicted_output = model(images) # Apply our network to the images\n",
        "    fit = loss(predicted_output, labels) # Measure how well the predicted output matches the labels\n",
        "    test_loss += fit.item() # Add the fit to the loss for tracking purposes\n",
        "\n",
        "  # Training process\n",
        "  for i, data in enumerate(trainDataLoader):\n",
        "    images, labels = data # Unpack the data into the images and labels\n",
        "    images, labels = images.to(device), labels.to(device) # Put on device\n",
        "    optimizer.zero_grad() # Zero out the gradient values\n",
        "    predicted_output = model(images) # Apply our network to the images\n",
        "    fit = loss(predicted_output, labels) # Measure how well the predicted output matches the labels\n",
        "    fit.backward() # Compute the gradient of the fit with respect to the model parameters\n",
        "    optimizer.step() # Update the weights in the model using gradient descent\n",
        "    train_loss += fit.item() # Add the fit to the loss for tracking purposes\n",
        "\n",
        "  # Add the current losses to our tracking lists\n",
        "  train_losses += [train_loss/len(trainDataLoader)]\n",
        "  test_losses += [test_loss/len(testDataLoader)]\n",
        "\n",
        "  # Print the current loss\n",
        "  print(f'Epoch {epoch}, Train loss {train_loss}, Test loss {test_loss}')"
      ],
      "metadata": {
        "colab": {
          "base_uri": "https://localhost:8080/"
        },
        "id": "uyslWrnMUsPz",
        "outputId": "b0467190-c665-4aba-be29-96e07ec47c02"
      },
      "execution_count": 38,
      "outputs": [
        {
          "output_type": "stream",
          "name": "stdout",
          "text": [
            "Epoch 0, Train loss 920.0377095937729, Test loss 365.5077087879181\n",
            "Epoch 1, Train loss 516.9119004905224, Test loss 94.10491648316383\n",
            "Epoch 2, Train loss 442.2295154482126, Test loss 74.57143542170525\n",
            "Epoch 3, Train loss 405.6883602440357, Test loss 66.74878649413586\n",
            "Epoch 4, Train loss 383.1943348944187, Test loss 62.2986721098423\n"
          ]
        }
      ]
    },
    {
      "cell_type": "markdown",
      "source": [
        "Let's plot our loss by training epoch to see how we did over time."
      ],
      "metadata": {
        "id": "ubaw__UsWeD-"
      }
    },
    {
      "cell_type": "code",
      "source": [
        "plt.plot(range(5),train_losses, label='Train error')\n",
        "plt.plot(range(5),test_losses, label='Test error')\n",
        "plt.xlabel('Epoch')\n",
        "plt.ylabel('Loss')\n",
        "plt.legend()\n",
        "plt.show()"
      ],
      "metadata": {
        "colab": {
          "base_uri": "https://localhost:8080/",
          "height": 449
        },
        "id": "k-0d7QNSWg0L",
        "outputId": "eee85b73-60be-421f-d5dc-40a739d5bbaa"
      },
      "execution_count": 33,
      "outputs": [
        {
          "output_type": "display_data",
          "data": {
            "text/plain": [
              "<Figure size 640x480 with 1 Axes>"
            ],
            "image/png": "[encoded data removed]"
          },
          "metadata": {}
        }
      ]
    },
    {
      "cell_type": "markdown",
      "source": [
        "The test loss is always larger than the training loss. Why is that?\n",
        "\n",
        "Let's look at an example to see how well the model does. We'll use the variables from the last pass of the training process."
      ],
      "metadata": {
        "id": "X07pCmj9XPA5"
      }
    },
    {
      "cell_type": "code",
      "source": [
        "predicted_classes = torch.max(predicted_output, 1)[1]\n",
        "print('Predicted:', predicted_classes)\n",
        "print('Labels:', labels)\n"
      ],
      "metadata": {
        "colab": {
          "base_uri": "https://localhost:8080/"
        },
        "id": "8tEPvljMXwwT",
        "outputId": "d4c78529-084e-4fd5-aedb-a92d8792a691"
      },
      "execution_count": 34,
      "outputs": [
        {
          "output_type": "stream",
          "name": "stdout",
          "text": [
            "Predicted: tensor([5, 4, 7, 9, 1, 6, 9, 0, 9, 6, 6, 7, 3, 9, 0, 6, 8, 3, 9, 6, 3, 4, 1, 1,\n",
            "        9, 8, 1, 3, 1, 1, 5, 8], device='cuda:0')\n",
            "Labels: tensor([5, 4, 7, 9, 1, 6, 9, 0, 9, 6, 6, 7, 3, 9, 0, 6, 8, 3, 9, 6, 3, 4, 1, 1,\n",
            "        4, 8, 1, 3, 1, 1, 5, 9], device='cuda:0')\n"
          ]
        }
      ]
    },
    {
      "cell_type": "code",
      "source": [
        "i = 1\n",
        "print('Predicted:', predicted_classes[i].item())\n",
        "print('Labels:', labels[i].item())\n",
        "plt.imshow(images[i].squeeze().cpu()) # Visualize iamge\n",
        "plt.show()"
      ],
      "metadata": {
        "colab": {
          "base_uri": "https://localhost:8080/",
          "height": 466
        },
        "id": "ov5EcFI4YSBM",
        "outputId": "4ef4e020-4bcd-4a6d-caec-b54d3cc1928a"
      },
      "execution_count": 35,
      "outputs": [
        {
          "output_type": "stream",
          "name": "stdout",
          "text": [
            "Predicted: 4\n",
            "Labels: 4\n"
          ]
        },
        {
          "output_type": "display_data",
          "data": {
            "text/plain": [
              "<Figure size 640x480 with 1 Axes>"
            ],
            "image/png": "[encoded data removed]"
          },
          "metadata": {}
        }
      ]
    }
  ]
}